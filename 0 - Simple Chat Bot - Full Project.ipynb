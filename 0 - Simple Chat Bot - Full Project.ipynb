{
 "cells": [
  {
   "cell_type": "markdown",
   "id": "c5009b0c",
   "metadata": {},
   "source": [
    "<h1><center>💬 Simple Chat Bot 💬</center></h1>\n",
    "<i><center>Create your first Chat Bot with Python</center></i>"
   ]
  },
  {
   "cell_type": "code",
   "execution_count": null,
   "id": "31c9a947",
   "metadata": {},
   "outputs": [],
   "source": []
  }
 ],
 "metadata": {
  "kernelspec": {
   "display_name": "Python 3 (ipykernel)",
   "language": "python",
   "name": "python3"
  },
  "language_info": {
   "codemirror_mode": {
    "name": "ipython",
    "version": 3
   },
   "file_extension": ".py",
   "mimetype": "text/x-python",
   "name": "python",
   "nbconvert_exporter": "python",
   "pygments_lexer": "ipython3",
   "version": "3.9.13"
  }
 },
 "nbformat": 4,
 "nbformat_minor": 5
}
