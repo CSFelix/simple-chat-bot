{
 "cells": [
  {
   "cell_type": "markdown",
   "id": "c5009b0c",
   "metadata": {},
   "source": [
    "<h1 id=\"simple-chat-bot\"><center>💬 Simple Chat Bot 💬</center></h1>\n",
    "<i><center>Create your first Chat Bot with Python</center></i>\n",
    "\n",
    "----"
   ]
  },
  {
   "cell_type": "markdown",
   "id": "e92f3ec0",
   "metadata": {},
   "source": [
    "<h2 id=\"problem-description\">📝 Problem Description</h2>\n",
    "\n",
    "<br />\n",
    "\n",
    "<figure>\n",
    "    <img src=\"https://res.cloudinary.com/dte7upwcr/image/upload/blog/blog2/chatbot-o-que-e/chatbot-o-que-e-img_header.jpg\" alt=\"Chat Bot Image\" />\n",
    "    <figcaption><i>Fig. 1 - Chat Bot. <sup>©</sup><a href=\"https://cloudinary.com\" target=\"_blank\">Cloudinary</a></i></figcaption>\n",
    "</figure>\n",
    "\n",
    "<br />\n",
    "\n",
    "You have been hired by CUMI (*Central Unity of My Imagination*) to construct a Chat Bot model to talk with people in **English**, **Japanese** and **Portuguese**. The bot does not have a especific purpose, that is, it should just answer simple small talk questions.\n",
    "\n",
    "You received a dataset containing more than 3k questions and answers to train the model. You can use any programming language and library, however, you have to explain each project step.\n",
    "\n",
    "In the end, save the model in a pickle file to others be able to use it!"
   ]
  },
  {
   "cell_type": "markdown",
   "id": "98940e63",
   "metadata": {},
   "source": [
    "----\n",
    "\n",
    "<h2 id=\"files-description\">📁 Files Description</h2>\n",
    "\n",
    "> **conversation.csv** - contains around 3K simple small talk questions and answers to train the model."
   ]
  },
  {
   "cell_type": "markdown",
   "id": "f678b225",
   "metadata": {},
   "source": [
    "----\n",
    "\n",
    "<h2 id=\"features\">❓ Features</h2>\n",
    "\n",
    "> **Id** - row id to identify the (*question, answer*) pair;\n",
    "\n",
    "> **Question** - small talk question."
   ]
  },
  {
   "cell_type": "markdown",
   "id": "35cd7831",
   "metadata": {},
   "source": [
    "----\n",
    "\n",
    "<h2 id=\"target-feature\">🌟 Target Feature</h2>\n",
    "\n",
    "> **Answer** - small talk answer."
   ]
  },
  {
   "cell_type": "markdown",
   "id": "55fda42e",
   "metadata": {},
   "source": [
    "----\n",
    "\n",
    "<h2 id=\"metric\">📏 Metric</h2>\n",
    "\n",
    "There are inumerous metrics we can us to evaluate Chat Bot models, such as *Number of Active Users*, *Users Satisfaction Score*, *Number of Total Intections per Conversation* and *Time/Lenght of Conversation*. In this project, we will be using **Goal Completion Rate (*GCR*)**.\n",
    "\n",
    "*GCR* measures how good the model fills its role. In our case, our model goal is to answer simple small talk questions, so, after training it, we will do some conversation tests and se how good and coherent the model answers."
   ]
  },
  {
   "cell_type": "markdown",
   "id": "4afd653f",
   "metadata": {},
   "source": [
    "----\n",
    "\n",
    "<h2 id=\"limitations\">🛑 Limitations</h2>\n",
    "\n",
    "Nothing is perfect in this world and Artificial Intelligence and Data Science are not exceptions. Always there will be limitations in our projects.\n",
    "\n",
    "The first - and most obvious - limitation we have here are the languages! Our bot will be able to understand English, Japanese and Portuguese only, so, if the model's accessibility becomes public to any person around the world, this person must now one of these three languages or use translators (like *Google Translate*) in order to interact with it.\n",
    "\n",
    "Besides, even though our dataset contains around 3k small talk questions, it does not contain all possible questions in small talk and our model will probably not answer well some especific questions - yeah, I believe that we won't be able to ask about animes and shows spoilers. 😥"
   ]
  },
  {
   "cell_type": "markdown",
   "id": "61d71454",
   "metadata": {},
   "source": [
    "----\n",
    "\n",
    "<h2 id=\"goals\">🎯 Goals</h2>\n",
    "\n",
    "> **Goal 1** - make a word cloud about the questions and other one about the answers;\n",
    "\n",
    "> **Goal 2** - make the model answer simple  small talk questions based on our dataset;\n",
    "\n",
    "> **Goal 3** - make the model be able to understand and answer in **English**, **Japanese** and **Portuguese**."
   ]
  },
  {
   "cell_type": "markdown",
   "id": "96a58b4e",
   "metadata": {},
   "source": [
    "----\n",
    "\n",
    "<h2 id=\"setup\">⚙️ Setup</h2>\n",
    "\n",
    "***Tools***\n",
    "\n",
    "> Python Version 3.9.x+;\n",
    "\n",
    "> Jupyter Notebook;\n",
    "\n",
    "<br />\n",
    "\n",
    "***Libraries***\n",
    "\n",
    "> Pandas, Numpy, WordCloud;\n",
    "\n",
    "> ChatterBot, NLTK, Tensorflow, Keras;\n",
    "\n",
    "> Pickles."
   ]
  },
  {
   "cell_type": "markdown",
   "id": "8c96803d",
   "metadata": {},
   "source": [
    "----\n",
    "\n",
    "<h2 id=\"acknowledgments\">🎉 Acknowledgements</h2>\n",
    "\n",
    "> Dataset by [*Kreesh Rajani*](https://www.kaggle.com/kreeshrajani) from Kaggle;\n",
    "\n",
    "> Dataset URL: [3k Conversations Dataset for Chat Bot](https://www.kaggle.com/datasets/kreeshrajani/3k-conversations-dataset-for-chatbot).\n",
    "\n",
    "----"
   ]
  },
  {
   "cell_type": "code",
   "execution_count": 5,
   "id": "e765d9e3",
   "metadata": {},
   "outputs": [],
   "source": [
    "import pandas as pd # pip install pandas\n",
    "import numpy as np # pip install numpy\n",
    "from wordcloud import WordCloud # pip install wordcloud\n",
    "\n",
    "SEED = (4353)\n",
    "\n",
    "np.random.seed(SEED)\n",
    "pd.set_option('display.max_rows', 5)\n",
    "pd.set_option('display.max_columns', 5)"
   ]
  },
  {
   "cell_type": "markdown",
   "id": "632cbd38",
   "metadata": {},
   "source": [
    "----\n",
    "\n",
    "<h2 id=\"reading-the-dataset\">0) Reading the Dataset</h2>"
   ]
  },
  {
   "cell_type": "code",
   "execution_count": 10,
   "id": "909576ab",
   "metadata": {},
   "outputs": [
    {
     "data": {
      "text/html": [
       "<div>\n",
       "<style scoped>\n",
       "    .dataframe tbody tr th:only-of-type {\n",
       "        vertical-align: middle;\n",
       "    }\n",
       "\n",
       "    .dataframe tbody tr th {\n",
       "        vertical-align: top;\n",
       "    }\n",
       "\n",
       "    .dataframe thead th {\n",
       "        text-align: right;\n",
       "    }\n",
       "</style>\n",
       "<table border=\"1\" class=\"dataframe\">\n",
       "  <thead>\n",
       "    <tr style=\"text-align: right;\">\n",
       "      <th></th>\n",
       "      <th>question</th>\n",
       "      <th>answer</th>\n",
       "    </tr>\n",
       "  </thead>\n",
       "  <tbody>\n",
       "    <tr>\n",
       "      <th>0</th>\n",
       "      <td>hi, how are you doing?</td>\n",
       "      <td>i'm fine. how about yourself?</td>\n",
       "    </tr>\n",
       "    <tr>\n",
       "      <th>1</th>\n",
       "      <td>i'm fine. how about yourself?</td>\n",
       "      <td>i'm pretty good. thanks for asking.</td>\n",
       "    </tr>\n",
       "    <tr>\n",
       "      <th>2</th>\n",
       "      <td>i'm pretty good. thanks for asking.</td>\n",
       "      <td>no problem. so how have you been?</td>\n",
       "    </tr>\n",
       "    <tr>\n",
       "      <th>3</th>\n",
       "      <td>no problem. so how have you been?</td>\n",
       "      <td>i've been great. what about you?</td>\n",
       "    </tr>\n",
       "    <tr>\n",
       "      <th>4</th>\n",
       "      <td>i've been great. what about you?</td>\n",
       "      <td>i've been good. i'm in school right now.</td>\n",
       "    </tr>\n",
       "  </tbody>\n",
       "</table>\n",
       "</div>"
      ],
      "text/plain": [
       "                              question  \\\n",
       "0               hi, how are you doing?   \n",
       "1        i'm fine. how about yourself?   \n",
       "2  i'm pretty good. thanks for asking.   \n",
       "3    no problem. so how have you been?   \n",
       "4     i've been great. what about you?   \n",
       "\n",
       "                                     answer  \n",
       "0             i'm fine. how about yourself?  \n",
       "1       i'm pretty good. thanks for asking.  \n",
       "2         no problem. so how have you been?  \n",
       "3          i've been great. what about you?  \n",
       "4  i've been good. i'm in school right now.  "
      ]
     },
     "execution_count": 10,
     "metadata": {},
     "output_type": "execute_result"
    }
   ],
   "source": [
    "dataset_path = './dataset/conversation.csv'\n",
    "df = pd.read_csv(dataset_path, index_col='Unnamed: 0')\n",
    "df.head()"
   ]
  },
  {
   "cell_type": "markdown",
   "id": "98a15f96",
   "metadata": {},
   "source": [
    "----\n",
    "\n",
    "<h2 id=\"exploring-the-dataset\">1) Exploring the Dataset</h2>"
   ]
  },
  {
   "cell_type": "code",
   "execution_count": 11,
   "id": "b0c1cf93",
   "metadata": {},
   "outputs": [
    {
     "data": {
      "text/html": [
       "<div>\n",
       "<style scoped>\n",
       "    .dataframe tbody tr th:only-of-type {\n",
       "        vertical-align: middle;\n",
       "    }\n",
       "\n",
       "    .dataframe tbody tr th {\n",
       "        vertical-align: top;\n",
       "    }\n",
       "\n",
       "    .dataframe thead th {\n",
       "        text-align: right;\n",
       "    }\n",
       "</style>\n",
       "<table border=\"1\" class=\"dataframe\">\n",
       "  <thead>\n",
       "    <tr style=\"text-align: right;\">\n",
       "      <th></th>\n",
       "      <th>question</th>\n",
       "      <th>answer</th>\n",
       "    </tr>\n",
       "  </thead>\n",
       "  <tbody>\n",
       "    <tr>\n",
       "      <th>count</th>\n",
       "      <td>3725</td>\n",
       "      <td>3725</td>\n",
       "    </tr>\n",
       "    <tr>\n",
       "      <th>unique</th>\n",
       "      <td>3510</td>\n",
       "      <td>3512</td>\n",
       "    </tr>\n",
       "    <tr>\n",
       "      <th>top</th>\n",
       "      <td>what do you mean?</td>\n",
       "      <td>what do you mean?</td>\n",
       "    </tr>\n",
       "    <tr>\n",
       "      <th>freq</th>\n",
       "      <td>22</td>\n",
       "      <td>22</td>\n",
       "    </tr>\n",
       "  </tbody>\n",
       "</table>\n",
       "</div>"
      ],
      "text/plain": [
       "                 question             answer\n",
       "count                3725               3725\n",
       "unique               3510               3512\n",
       "top     what do you mean?  what do you mean?\n",
       "freq                   22                 22"
      ]
     },
     "execution_count": 11,
     "metadata": {},
     "output_type": "execute_result"
    }
   ],
   "source": [
    "# Statistic Overview\n",
    "df.describe()"
   ]
  },
  {
   "cell_type": "markdown",
   "id": "cfe6df06",
   "metadata": {},
   "source": [
    "Looking at the table above, we realize that there are duplicated questions and answers, being **what do you mean?** the most frequent one in both features. Let's take a look to all rows that has this sentence and check out whether we will drop or not them."
   ]
  },
  {
   "cell_type": "code",
   "execution_count": 44,
   "id": "390b2c60",
   "metadata": {
    "scrolled": true
   },
   "outputs": [
    {
     "name": "stdout",
     "output_type": "stream",
     "text": [
      "0) you're watching too much tv. >> what do you mean?\n",
      "1) what do you mean? >> i mean you're wasting your life.\n",
      "2) no, when i call him on his cell phone. >> what do you mean?\n",
      "3) what do you mean? >> i buried him with his cell phone.\n",
      "4) no. that's incomplete. >> what do you mean?\n",
      "5) what do you mean? >> what's your mailing address?\n",
      "6) oh, no, you don't. >> what do you mean?\n",
      "7) what do you mean? >> every morning you get up late and rush off to work late.\n",
      "8) which would you prefer? >> what do you mean?\n",
      "9) what do you mean? >> when you die and go to heaven, they will offer you beer or cigarettes.\n",
      "10) don't be ridiculous. >> what do you mean?\n",
      "11) what do you mean? >> if you're going to make a wish, wish that you were really rich or famous.\n",
      "12) without gravity, you would go up. >> what do you mean?\n",
      "13) what do you mean? >> you would float into the sky like a balloon.\n",
      "14) and lots of thieves. >> what do you mean?\n",
      "15) what do you mean? >> i mean, keep your belongings close to you.\n",
      "16) that's a lot. >> what do you mean?\n",
      "17) what do you mean? >> that's six times a year!\n",
      "18) where's the car? >> what do you mean?\n",
      "19) what do you mean? >> the car isn't here.\n",
      "20) we can kill two birds with one stone. >> what do you mean?\n",
      "21) what do you mean? >> while you're using the bathroom, i'll order some food.\n",
      "22) because i watch the other players. >> what do you mean?\n",
      "23) what do you mean? >> people will tell you if they have a good hand.\n",
      "24) there's nothing in it. >> what do you mean?\n",
      "25) what do you mean? >> i mean, it's just coffee.\n",
      "26) oh, no, it isn't! >> what do you mean?\n",
      "27) what do you mean? >> i can't get a single channel.\n",
      "28) he's a dirty old man. >> what do you mean?\n",
      "29) what do you mean? >> he's old enough to be my father, yet he asked me out.\n",
      "30) no, because it hurts my ears. >> what do you mean?\n",
      "31) what do you mean? >> every time we land or take off, my ears hurt so much.\n",
      "32) have you heard something that you're not telling me? >> what do you mean?\n",
      "33) what do you mean? >> are there going to be layoffs at this place?\n",
      "34) for me, it's the students. >> what do you mean?\n",
      "35) what do you mean? >> i mean i have wonderful students.\n",
      "36) do you think the bananas fell from the sky? >> what do you mean?\n",
      "37) what do you mean? >> i mean, someone used their dirty hands to pick the bananas, the apples, and the oranges.\n",
      "38) we will be house rich, but cash poor. >> what do you mean?\n",
      "39) what do you mean? >> our monthly payments will be too high.\n",
      "40) that election for u.s. senator stunk. >> what do you mean?\n",
      "41) what do you mean? >> there were more votes than voters!\n",
      "42) she got an \"everything\" job! >> what do you mean?\n",
      "43) what do you mean? >> a team of doctors gave her a whole new face.\n"
     ]
    }
   ],
   "source": [
    "# Listing all rows containing \"what do you mean?\" on questions and answers\n",
    "value = 'what do you mean?'\n",
    "filtered_rows = df.loc[(df['question'] == value) | (df['answer'] == value)]\n",
    "filtered_rows_indexes = filtered_rows.index\n",
    "\n",
    "\n",
    "for (index, question, answer) in zip(\n",
    "    range(len(filtered_rows))\n",
    "    , filtered_rows['question']\n",
    "    , filtered_rows['answer']\n",
    "):\n",
    "    print(f'{index}) {question} >> {answer}')"
   ]
  },
  {
   "cell_type": "markdown",
   "id": "f8c942ec",
   "metadata": {},
   "source": [
    "Well, let's do the booring part quick. The code bellow changes the needed \"what do you mean?\" questions and answers to proper ones and replace them into the main dataset."
   ]
  },
  {
   "cell_type": "code",
   "execution_count": null,
   "id": "a4fd7023",
   "metadata": {},
   "outputs": [],
   "source": []
  }
 ],
 "metadata": {
  "kernelspec": {
   "display_name": "Python 3 (ipykernel)",
   "language": "python",
   "name": "python3"
  },
  "language_info": {
   "codemirror_mode": {
    "name": "ipython",
    "version": 3
   },
   "file_extension": ".py",
   "mimetype": "text/x-python",
   "name": "python",
   "nbconvert_exporter": "python",
   "pygments_lexer": "ipython3",
   "version": "3.9.13"
  }
 },
 "nbformat": 4,
 "nbformat_minor": 5
}
